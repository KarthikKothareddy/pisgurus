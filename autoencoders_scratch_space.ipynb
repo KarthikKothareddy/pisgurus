{
 "cells": [
  {
   "cell_type": "code",
   "execution_count": 7,
   "metadata": {
    "ExecuteTime": {
     "end_time": "2020-02-11T14:18:01.441830Z",
     "start_time": "2020-02-11T14:18:01.419853Z"
    },
    "code_folding": [
     6,
     35
    ]
   },
   "outputs": [],
   "source": [
    "import cv2\n",
    "import os\n",
    "import random\n",
    "import imutils\n",
    "import numpy as np\n",
    "import matplotlib.pyplot as plt\n",
    "%matplotlib inline\n",
    "\n",
    "def display(image, flip=True, cmap=None, figsize=(6, 6), **kwargs):\n",
    "    if flip:\n",
    "        image = cv2.cvtColor(image, cv2.COLOR_BGR2RGB)\n",
    "        \n",
    "    # adjustment for histograms\n",
    "    if kwargs.get(\"is_histogram\", False):\n",
    "        plt.figure(figsize=figsize)\n",
    "        plt.plot(image)\n",
    "    else:\n",
    "        width=image.shape[1] \n",
    "        height=image.shape[0]\n",
    "        margin=50 \n",
    "        # dots per inch\n",
    "        dpi=100.\n",
    "        # inches\n",
    "        figsize=((width+2*margin)/dpi, (height+2*margin)/dpi)\n",
    "        #axes ratio\n",
    "        left = margin/dpi/figsize[0] \n",
    "        bottom = margin/dpi/figsize[1]\n",
    "        fig = plt.figure(figsize=figsize, dpi=dpi)\n",
    "        fig.subplots_adjust(left=left, bottom=bottom, right=1.-left, top=1.-bottom)\n",
    "        _ = plt.imshow(image, cmap=cmap)\n",
    "        plt.axis(\"off\")\n",
    "    plt.title(kwargs.get(\"title\", None))\n",
    "    plt.xlabel(kwargs.get(\"xlabel\", None))\n",
    "    plt.ylabel(kwargs.get(\"ylabel\", None))\n",
    "    plt.xlim(kwargs.get(\"xlim\", None))\n",
    "    plt.show()\n",
    "    \n",
    "def display_histogram(histograms, figsize=(6, 6), **kwargs):\n",
    "    plt.figure(figsize=figsize)\n",
    "    plt.title(kwargs.get(\"title\", None))\n",
    "    plt.xlabel(kwargs.get(\"xlabel\", None))\n",
    "    plt.ylabel(kwargs.get(\"ylabel\", None))\n",
    "    plt.xlim(kwargs.get(\"xlim\", None))\n",
    "    for h, c in histograms:\n",
    "        plt.plot(h, color=c)\n",
    "    plt.show()"
   ]
  },
  {
   "cell_type": "code",
   "execution_count": 11,
   "metadata": {
    "ExecuteTime": {
     "end_time": "2020-02-11T14:19:38.385632Z",
     "start_time": "2020-02-11T14:19:38.380441Z"
    }
   },
   "outputs": [
    {
     "name": "stdout",
     "output_type": "stream",
     "text": [
      "234 390\n"
     ]
    }
   ],
   "source": [
    "from imutils import paths\n",
    "n_dir = \"/Users/cn180450/IdeaProjects/Deep-Learning/check_xray/chest_xray/test/NORMAL/\"\n",
    "p_dir = \"/Users/cn180450/IdeaProjects/Deep-Learning/check_xray/chest_xray/test/PNEUMONIA/\"\n",
    "normal = os.listdir(n_dir)\n",
    "positive = os.listdir(p_dir)\n",
    "print(len(normal), len(positive))"
   ]
  },
  {
   "cell_type": "code",
   "execution_count": 20,
   "metadata": {
    "ExecuteTime": {
     "end_time": "2020-02-11T14:24:12.543231Z",
     "start_time": "2020-02-11T14:24:12.503552Z"
    }
   },
   "outputs": [],
   "source": [
    "image_normal = random.sample(normal, 1)[0]\n",
    "image_normal = cv2.imread(n_dir + normal_sample)\n",
    "# display(normal_image)\n",
    "gray = cv2.cvtColor(normal_image, cv2.COLOR_BGR2GRAY)\n",
    "hist = cv2.calcHist([gray], [0], None, [256], [0, 256])\n",
    "display(\n",
    "    hist, flip=False, is_histogram=True, figsize=(8, 6),\n",
    "    xlim=[0, 256], xlabel=\"Bins\", ylabel=\"# of pixels\",\n",
    "    title=\"Grayscale Histogram\"\n",
    ")"
   ]
  },
  {
   "cell_type": "code",
   "execution_count": null,
   "metadata": {
    "ExecuteTime": {
     "end_time": "2020-02-11T14:24:04.059857Z",
     "start_time": "2020-02-11T14:24:03.913914Z"
    }
   },
   "outputs": [],
   "source": []
  },
  {
   "cell_type": "code",
   "execution_count": null,
   "metadata": {},
   "outputs": [],
   "source": []
  },
  {
   "cell_type": "code",
   "execution_count": null,
   "metadata": {},
   "outputs": [],
   "source": []
  },
  {
   "cell_type": "code",
   "execution_count": null,
   "metadata": {},
   "outputs": [],
   "source": []
  },
  {
   "cell_type": "code",
   "execution_count": null,
   "metadata": {},
   "outputs": [],
   "source": []
  },
  {
   "cell_type": "code",
   "execution_count": null,
   "metadata": {},
   "outputs": [],
   "source": []
  },
  {
   "cell_type": "code",
   "execution_count": null,
   "metadata": {},
   "outputs": [],
   "source": []
  },
  {
   "cell_type": "code",
   "execution_count": null,
   "metadata": {},
   "outputs": [],
   "source": []
  },
  {
   "cell_type": "code",
   "execution_count": null,
   "metadata": {},
   "outputs": [],
   "source": []
  },
  {
   "cell_type": "code",
   "execution_count": null,
   "metadata": {},
   "outputs": [],
   "source": []
  }
 ],
 "metadata": {
  "kernelspec": {
   "display_name": "Python [conda env:py36] *",
   "language": "python",
   "name": "conda-env-py36-py"
  },
  "language_info": {
   "codemirror_mode": {
    "name": "ipython",
    "version": 3
   },
   "file_extension": ".py",
   "mimetype": "text/x-python",
   "name": "python",
   "nbconvert_exporter": "python",
   "pygments_lexer": "ipython3",
   "version": "3.6.8"
  }
 },
 "nbformat": 4,
 "nbformat_minor": 2
}
