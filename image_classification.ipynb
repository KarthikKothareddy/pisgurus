{
 "cells": [
  {
   "cell_type": "code",
   "execution_count": 1,
   "metadata": {
    "ExecuteTime": {
     "end_time": "2020-03-06T13:32:51.869818Z",
     "start_time": "2020-03-06T13:32:51.009677Z"
    }
   },
   "outputs": [],
   "source": [
    "# /Users/cn180450/anaconda3/bin:/usr/local/bin:/usr/bin:/bin:/usr/sbin:/sbin:/Library/TeX/texbin\n",
    "\n",
    "import cv2\n",
    "import os\n",
    "import random\n",
    "random.seed(255)\n",
    "import imutils\n",
    "import numpy as np\n",
    "import matplotlib.pyplot as plt\n",
    "%matplotlib inline\n",
    "\n",
    "def display(image, flip=True, cmap=None, figsize=(6, 6), **kwargs):\n",
    "    if flip:\n",
    "        image = cv2.cvtColor(image, cv2.COLOR_BGR2RGB)\n",
    "        \n",
    "    # adjustment for histograms\n",
    "    if kwargs.get(\"is_histogram\", False):\n",
    "        plt.figure(figsize=figsize)\n",
    "        plt.plot(image)\n",
    "    else:\n",
    "        width=image.shape[1] \n",
    "        height=image.shape[0]\n",
    "        margin=50 \n",
    "        # dots per inch\n",
    "        dpi=100.\n",
    "        # inches\n",
    "        figsize=((width+2*margin)/dpi, (height+2*margin)/dpi)\n",
    "        #axes ratio\n",
    "        left = margin/dpi/figsize[0] \n",
    "        bottom = margin/dpi/figsize[1]\n",
    "        fig = plt.figure(figsize=figsize, dpi=dpi)\n",
    "        fig.subplots_adjust(left=left, bottom=bottom, right=1.-left, top=1.-bottom)\n",
    "        _ = plt.imshow(image, cmap=cmap)\n",
    "        plt.axis(\"off\")\n",
    "    plt.title(kwargs.get(\"title\", None))\n",
    "    plt.xlabel(kwargs.get(\"xlabel\", None))\n",
    "    plt.ylabel(kwargs.get(\"ylabel\", None))\n",
    "    plt.xlim(kwargs.get(\"xlim\", None))\n",
    "    plt.show()\n",
    "    "
   ]
  },
  {
   "cell_type": "markdown",
   "metadata": {},
   "source": [
    "### KNN Classifier"
   ]
  },
  {
   "cell_type": "code",
   "execution_count": 3,
   "metadata": {
    "ExecuteTime": {
     "end_time": "2020-03-06T13:53:07.145060Z",
     "start_time": "2020-03-06T13:53:07.141838Z"
    }
   },
   "outputs": [],
   "source": [
    "from __future__ import print_function\n",
    "from sklearn.neighbors import KNeighborsClassifier\n",
    "from sklearn.metrics import classification_report\n",
    "from sklearn.datasets import load_digits\n",
    "from skimage import exposure\n",
    "import sklearn\n",
    "from sklearn.model_selection import train_test_split"
   ]
  },
  {
   "cell_type": "code",
   "execution_count": 4,
   "metadata": {
    "ExecuteTime": {
     "end_time": "2020-03-06T13:53:16.728327Z",
     "start_time": "2020-03-06T13:53:16.650932Z"
    }
   },
   "outputs": [],
   "source": [
    "mnist = load_digits()"
   ]
  },
  {
   "cell_type": "code",
   "execution_count": 11,
   "metadata": {
    "ExecuteTime": {
     "end_time": "2020-03-06T14:11:43.686477Z",
     "start_time": "2020-03-06T14:11:43.680347Z"
    }
   },
   "outputs": [
    {
     "name": "stdout",
     "output_type": "stream",
     "text": [
      "808 90 899\n"
     ]
    }
   ],
   "source": [
    "# train, test\n",
    "x_train, x_test, y_train, y_test = train_test_split(\n",
    "    np.array(mnist.data), mnist.target, \n",
    "    test_size=0.50, random_state=42\n",
    ")\n",
    "# train, validation\n",
    "x_train, x_val, y_train, y_val = train_test_split(\n",
    "    x_train, y_train, test_size=0.1, random_state=84\n",
    ")\n",
    "print(len(x_train), len(x_val), len(x_test))"
   ]
  },
  {
   "cell_type": "code",
   "execution_count": 12,
   "metadata": {
    "ExecuteTime": {
     "end_time": "2020-03-06T14:11:46.036396Z",
     "start_time": "2020-03-06T14:11:45.878721Z"
    }
   },
   "outputs": [
    {
     "name": "stdout",
     "output_type": "stream",
     "text": [
      "k=1, accuracy=97.78%\n",
      "k=3, accuracy=98.89%\n",
      "k=5, accuracy=97.78%\n",
      "k=7, accuracy=97.78%\n",
      "k=9, accuracy=97.78%\n",
      "k=11, accuracy=98.89%\n",
      "k=13, accuracy=97.78%\n",
      "k=15, accuracy=96.67%\n",
      "k=17, accuracy=95.56%\n",
      "k=19, accuracy=96.67%\n",
      "k=21, accuracy=96.67%\n",
      "k=23, accuracy=95.56%\n",
      "k=25, accuracy=95.56%\n",
      "k=27, accuracy=95.56%\n",
      "k=29, accuracy=95.56%\n",
      "k=3 achieved  highest accuracy of 98.89% on validation data\n"
     ]
    }
   ],
   "source": [
    "k_values = range(1, 30, 2)\n",
    "accuracies = []\n",
    "\n",
    "# loop over values of k \n",
    "for k in range(1, 30, 2):\n",
    "    # train\n",
    "    knn = KNeighborsClassifier(n_neighbors=k)\n",
    "    knn.fit(x_train, y_train)\n",
    "    \n",
    "    # evaluate\n",
    "    score = knn.score(x_val, y_val)\n",
    "    print(\"k=%d, accuracy=%.2f%%\" % (k, score*100))\n",
    "    accuracies.append(score)\n",
    "    \n",
    "i = int(np.argmax(accuracies))\n",
    "print(\"k=%d achieved  highest accuracy of %.2f%% on validation data\" % (k_values[i], accuracies[i]*100))"
   ]
  },
  {
   "cell_type": "code",
   "execution_count": 9,
   "metadata": {
    "ExecuteTime": {
     "end_time": "2020-03-06T14:03:23.176596Z",
     "start_time": "2020-03-06T14:03:23.106658Z"
    }
   },
   "outputs": [
    {
     "name": "stdout",
     "output_type": "stream",
     "text": [
      "Classification Report\n",
      "              precision    recall  f1-score   support\n",
      "\n",
      "           0       1.00      1.00      1.00        43\n",
      "           1       0.95      1.00      0.97        37\n",
      "           2       1.00      1.00      1.00        38\n",
      "           3       0.98      0.98      0.98        46\n",
      "           4       0.98      0.98      0.98        55\n",
      "           5       0.98      1.00      0.99        59\n",
      "           6       1.00      1.00      1.00        45\n",
      "           7       1.00      0.98      0.99        41\n",
      "           8       0.97      0.95      0.96        38\n",
      "           9       0.96      0.94      0.95        48\n",
      "\n",
      "    accuracy                           0.98       450\n",
      "   macro avg       0.98      0.98      0.98       450\n",
      "weighted avg       0.98      0.98      0.98       450\n",
      "\n"
     ]
    }
   ],
   "source": [
    "# retrain using best k value\n",
    "model = KNeighborsClassifier(n_neighbors=k_values[i])\n",
    "model.fit(x_train, y_train)\n",
    "y_hat = model.predict(x_test)\n",
    "\n",
    "\n",
    "print(\"Classification Report\")\n",
    "print(classification_report(y_test, y_hat))"
   ]
  },
  {
   "cell_type": "code",
   "execution_count": 10,
   "metadata": {
    "ExecuteTime": {
     "end_time": "2020-03-06T14:09:07.084333Z",
     "start_time": "2020-03-06T14:09:06.809835Z"
    }
   },
   "outputs": [
    {
     "data": {
      "image/png": "[encoded data removed]",
      "text/plain": [
       "<Figure size 132x132 with 1 Axes>"
      ]
     },
     "metadata": {
      "needs_background": "light"
     },
     "output_type": "display_data"
    },
    {
     "data": {
      "image/png": "[encoded data removed]",
      "text/plain": [
       "<Figure size 132x132 with 1 Axes>"
      ]
     },
     "metadata": {
      "needs_background": "light"
     },
     "output_type": "display_data"
    },
    {
     "data": {
      "image/png": "[encoded data removed]",
      "text/plain": [
       "<Figure size 132x132 with 1 Axes>"
      ]
     },
     "metadata": {
      "needs_background": "light"
     },
     "output_type": "display_data"
    },
    {
     "data": {
      "image/png": "[encoded data removed]",
      "text/plain": [
       "<Figure size 132x132 with 1 Axes>"
      ]
     },
     "metadata": {
      "needs_background": "light"
     },
     "output_type": "display_data"
    },
    {
     "data": {
      "image/png": "[encoded data removed]",
      "text/plain": [
       "<Figure size 132x132 with 1 Axes>"
      ]
     },
     "metadata": {
      "needs_background": "light"
     },
     "output_type": "display_data"
    }
   ],
   "source": [
    "# loope over predictions and visualize\n",
    "\n",
    "for i in list(map(int, np.random.randint(0, high=len(x_test), size=(5, )))):\n",
    "    # fetch image\n",
    "    image = x_test[i]\n",
    "    prediction = model.predict(image.reshape(1, -1))[0]\n",
    "    \n",
    "    # convert the image for a 64 dim array to an 8x8 image\n",
    "    image = image.reshape((8, 8)).astype(\"uint8\")\n",
    "    iamge = exposure.rescale_intensity(image, out_range=(0, 255))\n",
    "    image = imutils.resize(image, width=32, inter=cv2.INTER_CUBIC)\n",
    "    \n",
    "    display(image, flip=False, cmap=\"gray\", title=str(prediction))"
   ]
  },
  {
   "cell_type": "code",
   "execution_count": null,
   "metadata": {},
   "outputs": [],
   "source": []
  },
  {
   "cell_type": "code",
   "execution_count": null,
   "metadata": {},
   "outputs": [],
   "source": []
  },
  {
   "cell_type": "code",
   "execution_count": null,
   "metadata": {},
   "outputs": [],
   "source": []
  },
  {
   "cell_type": "code",
   "execution_count": null,
   "metadata": {},
   "outputs": [],
   "source": []
  },
  {
   "cell_type": "code",
   "execution_count": null,
   "metadata": {},
   "outputs": [],
   "source": []
  }
 ],
 "metadata": {
  "kernelspec": {
   "display_name": "Python [conda env:py36] *",
   "language": "python",
   "name": "conda-env-py36-py"
  },
  "language_info": {
   "codemirror_mode": {
    "name": "ipython",
    "version": 3
   },
   "file_extension": ".py",
   "mimetype": "text/x-python",
   "name": "python",
   "nbconvert_exporter": "python",
   "pygments_lexer": "ipython3",
   "version": "3.6.8"
  },
  "latex_envs": {
   "LaTeX_envs_menu_present": true,
   "autoclose": false,
   "autocomplete": true,
   "bibliofile": "biblio.bib",
   "cite_by": "apalike",
   "current_citInitial": 1,
   "eqLabelWithNumbers": true,
   "eqNumInitial": 1,
   "hotkeys": {
    "equation": "Ctrl-E",
    "itemize": "Ctrl-I"
   },
   "labels_anchors": false,
   "latex_user_defs": false,
   "report_style_numbering": false,
   "user_envs_cfg": false
  }
 },
 "nbformat": 4,
 "nbformat_minor": 2
}
