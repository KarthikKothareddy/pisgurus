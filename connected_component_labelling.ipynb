{
 "cells": [
  {
   "cell_type": "code",
   "execution_count": 1,
   "metadata": {
    "ExecuteTime": {
     "end_time": "2020-02-14T14:26:10.744927Z",
     "start_time": "2020-02-14T14:26:09.226541Z"
    },
    "code_folding": [
     9,
     38,
     48
    ]
   },
   "outputs": [],
   "source": [
    "import cv2\n",
    "import os\n",
    "import random\n",
    "random.seed(255)\n",
    "import imutils\n",
    "import numpy as np\n",
    "import matplotlib.pyplot as plt\n",
    "%matplotlib inline\n",
    "\n",
    "def display(image, flip=True, cmap=None, figsize=(6, 6), **kwargs):\n",
    "    if flip:\n",
    "        image = cv2.cvtColor(image, cv2.COLOR_BGR2RGB)\n",
    "        \n",
    "    # adjustment for histograms\n",
    "    if kwargs.get(\"is_histogram\", False):\n",
    "        plt.figure(figsize=figsize)\n",
    "        plt.plot(image)\n",
    "    else:\n",
    "        width=image.shape[1] \n",
    "        height=image.shape[0]\n",
    "        margin=50 \n",
    "        # dots per inch\n",
    "        dpi=100.\n",
    "        # inches\n",
    "        figsize=((width+2*margin)/dpi, (height+2*margin)/dpi)\n",
    "        #axes ratio\n",
    "        left = margin/dpi/figsize[0] \n",
    "        bottom = margin/dpi/figsize[1]\n",
    "        fig = plt.figure(figsize=figsize, dpi=dpi)\n",
    "        fig.subplots_adjust(left=left, bottom=bottom, right=1.-left, top=1.-bottom)\n",
    "        _ = plt.imshow(image, cmap=cmap)\n",
    "        plt.axis(\"off\")\n",
    "    plt.title(kwargs.get(\"title\", None))\n",
    "    plt.xlabel(kwargs.get(\"xlabel\", None))\n",
    "    plt.ylabel(kwargs.get(\"ylabel\", None))\n",
    "    plt.xlim(kwargs.get(\"xlim\", None))\n",
    "    plt.show()\n",
    "    \n",
    "def display_histogram(histograms, figsize=(6, 6), **kwargs):\n",
    "    plt.figure(figsize=figsize)\n",
    "    plt.title(kwargs.get(\"title\", None))\n",
    "    plt.xlabel(kwargs.get(\"xlabel\", None))\n",
    "    plt.ylabel(kwargs.get(\"ylabel\", None))\n",
    "    plt.xlim(kwargs.get(\"xlim\", None))\n",
    "    for h, c in histograms:\n",
    "        plt.plot(h, color=c)\n",
    "    plt.show()\n",
    "    \n",
    "def resize(image, width=None, height=None, inter=cv2.INTER_AREA):\n",
    "    # initialize the dimensions of the image to be resized and\n",
    "    # grab the image size\n",
    "    dim = None\n",
    "    (h, w) = image.shape[:2]\n",
    "    \n",
    "    # if both the width and height are None, then return the\n",
    "    # original image\n",
    "    if width is None and height is None:\n",
    "        return image\n",
    "    \n",
    "    # check to see if the width is None\n",
    "    if width is None:\n",
    "        # calculate the ratio of the height and construct the\n",
    "        # dimensions\n",
    "        r = height / float(h)\n",
    "        dim = (int(w * r), height)\n",
    "    # otherwise, the height is None\n",
    "    else:\n",
    "        # calculate the ratio of the width and construct the\n",
    "        # dimensions\n",
    "        r = width / float(w)\n",
    "        dim = (width, int(h * r))\n",
    "    # resize the image\n",
    "    resized = cv2.resize(image, dim, interpolation=inter)\n",
    "    # return the resized image\n",
    "    return resized"
   ]
  },
  {
   "cell_type": "markdown",
   "metadata": {},
   "source": [
    "#### Introduction\n",
    "\n",
    "Connected-component labeling (also known as connected-component analysis, blob extraction, or region labeling) is an algorithmic application of graph theory that is used to determine the connectivity of “blob”-like regions in a binary image."
   ]
  },
  {
   "cell_type": "code",
   "execution_count": null,
   "metadata": {},
   "outputs": [],
   "source": []
  },
  {
   "cell_type": "code",
   "execution_count": null,
   "metadata": {},
   "outputs": [],
   "source": []
  },
  {
   "cell_type": "code",
   "execution_count": null,
   "metadata": {},
   "outputs": [],
   "source": []
  },
  {
   "cell_type": "code",
   "execution_count": null,
   "metadata": {},
   "outputs": [],
   "source": []
  },
  {
   "cell_type": "code",
   "execution_count": null,
   "metadata": {},
   "outputs": [],
   "source": []
  },
  {
   "cell_type": "code",
   "execution_count": null,
   "metadata": {},
   "outputs": [],
   "source": []
  },
  {
   "cell_type": "code",
   "execution_count": null,
   "metadata": {},
   "outputs": [],
   "source": []
  },
  {
   "cell_type": "code",
   "execution_count": null,
   "metadata": {},
   "outputs": [],
   "source": []
  },
  {
   "cell_type": "code",
   "execution_count": null,
   "metadata": {},
   "outputs": [],
   "source": []
  },
  {
   "cell_type": "code",
   "execution_count": null,
   "metadata": {},
   "outputs": [],
   "source": []
  },
  {
   "cell_type": "code",
   "execution_count": null,
   "metadata": {},
   "outputs": [],
   "source": []
  },
  {
   "cell_type": "code",
   "execution_count": null,
   "metadata": {},
   "outputs": [],
   "source": []
  },
  {
   "cell_type": "code",
   "execution_count": null,
   "metadata": {},
   "outputs": [],
   "source": []
  },
  {
   "cell_type": "code",
   "execution_count": null,
   "metadata": {},
   "outputs": [],
   "source": []
  },
  {
   "cell_type": "code",
   "execution_count": null,
   "metadata": {},
   "outputs": [],
   "source": [
    "\n"
   ]
  }
 ],
 "metadata": {
  "kernelspec": {
   "display_name": "Python [conda env:py36] *",
   "language": "python",
   "name": "conda-env-py36-py"
  },
  "language_info": {
   "codemirror_mode": {
    "name": "ipython",
    "version": 3
   },
   "file_extension": ".py",
   "mimetype": "text/x-python",
   "name": "python",
   "nbconvert_exporter": "python",
   "pygments_lexer": "ipython3",
   "version": "3.6.8"
  }
 },
 "nbformat": 4,
 "nbformat_minor": 2
}
