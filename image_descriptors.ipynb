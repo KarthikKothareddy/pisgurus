{
 "cells": [
  {
   "cell_type": "markdown",
   "metadata": {},
   "source": [
    "### Image Descriptors\n",
    "\n",
    "The process of quantifying an image is called feature extraction. The process of feature extraction governs the rules, algorithms, and methodologies we use to abstractly quantify the contents of an image using only a list of numbers, called a feature vector.\n",
    "\n",
    "Image descriptors and feature descriptors govern how an image is abstracted and quantified, while feature vectors are the output of descriptors and used to quantify the image. Taken as a whole, this process is called feature extraction."
   ]
  },
  {
   "cell_type": "code",
   "execution_count": 1,
   "metadata": {
    "ExecuteTime": {
     "end_time": "2020-02-24T14:10:56.906498Z",
     "start_time": "2020-02-24T14:10:55.860127Z"
    },
    "code_folding": [
     9,
     38
    ]
   },
   "outputs": [],
   "source": [
    "import cv2\n",
    "import os\n",
    "import random\n",
    "random.seed(255)\n",
    "import imutils\n",
    "import numpy as np\n",
    "import matplotlib.pyplot as plt\n",
    "%matplotlib inline\n",
    "\n",
    "def display(image, flip=True, cmap=None, figsize=(6, 6), **kwargs):\n",
    "    if flip:\n",
    "        image = cv2.cvtColor(image, cv2.COLOR_BGR2RGB)\n",
    "        \n",
    "    # adjustment for histograms\n",
    "    if kwargs.get(\"is_histogram\", False):\n",
    "        plt.figure(figsize=figsize)\n",
    "        plt.plot(image)\n",
    "    else:\n",
    "        width=image.shape[1] \n",
    "        height=image.shape[0]\n",
    "        margin=50 \n",
    "        # dots per inch\n",
    "        dpi=100.\n",
    "        # inches\n",
    "        figsize=((width+2*margin)/dpi, (height+2*margin)/dpi)\n",
    "        #axes ratio\n",
    "        left = margin/dpi/figsize[0] \n",
    "        bottom = margin/dpi/figsize[1]\n",
    "        fig = plt.figure(figsize=figsize, dpi=dpi)\n",
    "        fig.subplots_adjust(left=left, bottom=bottom, right=1.-left, top=1.-bottom)\n",
    "        _ = plt.imshow(image, cmap=cmap)\n",
    "        plt.axis(\"off\")\n",
    "    plt.title(kwargs.get(\"title\", None))\n",
    "    plt.xlabel(kwargs.get(\"xlabel\", None))\n",
    "    plt.ylabel(kwargs.get(\"ylabel\", None))\n",
    "    plt.xlim(kwargs.get(\"xlim\", None))\n",
    "    plt.show()\n",
    "    \n",
    "def display_histogram(histograms, figsize=(6, 6), **kwargs):\n",
    "    plt.figure(figsize=figsize)\n",
    "    plt.title(kwargs.get(\"title\", None))\n",
    "    plt.xlabel(kwargs.get(\"xlabel\", None))\n",
    "    plt.ylabel(kwargs.get(\"ylabel\", None))\n",
    "    plt.xlim(kwargs.get(\"xlim\", None))\n",
    "    for h, c in histograms:\n",
    "        plt.plot(h, color=c)\n",
    "    plt.show()\n"
   ]
  },
  {
   "cell_type": "markdown",
   "metadata": {},
   "source": [
    "#### Objectives\n",
    "\n",
    "1. Feature vector\n",
    "2. Image descriptor\n",
    "3. Feature descriptor\n",
    "\n",
    "\n",
    "**1. Image Feature Vector:** An abstraction of an image used to characterize and numerically quantify the contents of an image. Normally real, integer, or binary valued. Simply put, a feature vector is a list of numbers used to represent an image.\n",
    "\n",
    "\n",
    "**Simply put: a feature vector is nothing more than a list of numbers used to represent and quantify an image.**\n",
    "\n",
    "-----------------------------------------------------------------------------------------------------------------\n",
    "\n",
    "**2. Image Descriptor:** An image descriptor is an algorithm and methodology that governs how an input image is globally quantified and returns a feature vector abstractly representing the image contents.\n",
    "\n",
    "The key term to understand here is **global** — this implies that we are examining the entire image and using the whole image in the computation of our feature vector.\n",
    "\n",
    "-----------------------------------------------------------------------------------------------------------------\n",
    "\n",
    "**3. Feature Descriptor:** A feature descriptor is an algorithm and methodology that governs how an input region of an image is locally quantified. A feature descriptor accepts a single input image and returns multiple feature vectors."
   ]
  },
  {
   "cell_type": "code",
   "execution_count": null,
   "metadata": {},
   "outputs": [],
   "source": []
  },
  {
   "cell_type": "code",
   "execution_count": null,
   "metadata": {},
   "outputs": [],
   "source": []
  },
  {
   "cell_type": "code",
   "execution_count": null,
   "metadata": {},
   "outputs": [],
   "source": []
  },
  {
   "cell_type": "code",
   "execution_count": null,
   "metadata": {},
   "outputs": [],
   "source": []
  },
  {
   "cell_type": "code",
   "execution_count": null,
   "metadata": {},
   "outputs": [],
   "source": []
  },
  {
   "cell_type": "code",
   "execution_count": null,
   "metadata": {},
   "outputs": [],
   "source": []
  },
  {
   "cell_type": "code",
   "execution_count": null,
   "metadata": {},
   "outputs": [],
   "source": []
  },
  {
   "cell_type": "code",
   "execution_count": null,
   "metadata": {},
   "outputs": [],
   "source": []
  },
  {
   "cell_type": "code",
   "execution_count": null,
   "metadata": {},
   "outputs": [],
   "source": []
  },
  {
   "cell_type": "code",
   "execution_count": null,
   "metadata": {},
   "outputs": [],
   "source": []
  },
  {
   "cell_type": "code",
   "execution_count": null,
   "metadata": {},
   "outputs": [],
   "source": []
  },
  {
   "cell_type": "code",
   "execution_count": null,
   "metadata": {},
   "outputs": [],
   "source": []
  },
  {
   "cell_type": "code",
   "execution_count": null,
   "metadata": {},
   "outputs": [],
   "source": []
  }
 ],
 "metadata": {
  "kernelspec": {
   "display_name": "Python [conda env:py36] *",
   "language": "python",
   "name": "conda-env-py36-py"
  },
  "language_info": {
   "codemirror_mode": {
    "name": "ipython",
    "version": 3
   },
   "file_extension": ".py",
   "mimetype": "text/x-python",
   "name": "python",
   "nbconvert_exporter": "python",
   "pygments_lexer": "ipython3",
   "version": "3.6.8"
  },
  "latex_envs": {
   "LaTeX_envs_menu_present": true,
   "autoclose": false,
   "autocomplete": true,
   "bibliofile": "biblio.bib",
   "cite_by": "apalike",
   "current_citInitial": 1,
   "eqLabelWithNumbers": true,
   "eqNumInitial": 1,
   "hotkeys": {
    "equation": "Ctrl-E",
    "itemize": "Ctrl-I"
   },
   "labels_anchors": false,
   "latex_user_defs": false,
   "report_style_numbering": false,
   "user_envs_cfg": false
  }
 },
 "nbformat": 4,
 "nbformat_minor": 2
}
