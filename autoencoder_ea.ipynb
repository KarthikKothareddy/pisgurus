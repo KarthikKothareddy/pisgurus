{
 "cells": [
  {
   "cell_type": "code",
   "execution_count": 26,
   "metadata": {
    "ExecuteTime": {
     "end_time": "2020-02-12T21:33:26.601602Z",
     "start_time": "2020-02-12T21:33:26.594877Z"
    }
   },
   "outputs": [],
   "source": [
    "import tensorflow as tf\n",
    "import tensorflow.keras as k\n",
    "from tensorflow.keras.layers import Input, Dense\n",
    "from tensorflow.keras.models import Model"
   ]
  },
  {
   "cell_type": "code",
   "execution_count": 27,
   "metadata": {
    "ExecuteTime": {
     "end_time": "2020-02-12T21:33:32.365286Z",
     "start_time": "2020-02-12T21:33:32.355245Z"
    }
   },
   "outputs": [],
   "source": [
    "encoding_dim = 32\n",
    "image_input = Input(shape=(784, ))"
   ]
  },
  {
   "cell_type": "code",
   "execution_count": 28,
   "metadata": {
    "ExecuteTime": {
     "end_time": "2020-02-13T13:46:25.789416Z",
     "start_time": "2020-02-13T13:46:25.646923Z"
    }
   },
   "outputs": [],
   "source": [
    "# encoded\n",
    "encoded = Dense(encoding_dim, activation=\"relu\")(image_input)\n",
    "\n",
    "# decoded \n",
    "decoded = Dense(784, activation=\"sigmoid\")(encoded)\n",
    "\n",
    "# autoencoder\n",
    "autoencoder = Model(image_input, decoded)"
   ]
  },
  {
   "cell_type": "code",
   "execution_count": 29,
   "metadata": {
    "ExecuteTime": {
     "end_time": "2020-02-13T13:47:57.056406Z",
     "start_time": "2020-02-13T13:47:57.044717Z"
    }
   },
   "outputs": [],
   "source": [
    "# ENCODER \n",
    "encoder = Model(image_input, encoded)\n",
    "\n",
    "# placeholder for an encoded 32-dimensional input\n",
    "encoded_input = Input(shape=(encoding_dim, ))\n",
    "\n",
    "# retrieve last later from encoder\n",
    "decoder_layer = autoencoder.layers[-1]\n",
    "\n",
    "# DECODER\n",
    "decoder = Model(encoded_input, decoder_layer(encoded_input))"
   ]
  },
  {
   "cell_type": "code",
   "execution_count": 30,
   "metadata": {
    "ExecuteTime": {
     "end_time": "2020-02-13T13:49:01.149638Z",
     "start_time": "2020-02-13T13:49:01.118837Z"
    }
   },
   "outputs": [],
   "source": [
    "autoencoder.compile(optimizer=\"adadelta\", loss=\"binary_crossentropy\")"
   ]
  },
  {
   "cell_type": "code",
   "execution_count": 31,
   "metadata": {
    "ExecuteTime": {
     "end_time": "2020-02-13T13:49:55.977239Z",
     "start_time": "2020-02-13T13:49:55.695947Z"
    }
   },
   "outputs": [],
   "source": [
    "from tensorflow.keras.datasets import mnist\n",
    "import numpy as np\n",
    "\n",
    "(x_train, _), (x_test, _) = mnist.load_data()"
   ]
  },
  {
   "cell_type": "code",
   "execution_count": 34,
   "metadata": {
    "ExecuteTime": {
     "end_time": "2020-02-13T13:53:00.381415Z",
     "start_time": "2020-02-13T13:53:00.233939Z"
    }
   },
   "outputs": [
    {
     "name": "stdout",
     "output_type": "stream",
     "text": [
      "(60000, 784) (10000, 784)\n"
     ]
    }
   ],
   "source": [
    "x_train = x_train.astype(\"float32\")/255.\n",
    "x_test = x_test.astype(\"float32\")/255.\n",
    "x_train = x_train.reshape((len(x_train), np.prod(x_train.shape[1:])))\n",
    "x_test = x_test.reshape((len(x_test), np.prod(x_test.shape[1:])))\n",
    "print(x_train.shape, x_test.shape)"
   ]
  },
  {
   "cell_type": "code",
   "execution_count": null,
   "metadata": {},
   "outputs": [],
   "source": []
  },
  {
   "cell_type": "code",
   "execution_count": null,
   "metadata": {},
   "outputs": [],
   "source": []
  },
  {
   "cell_type": "code",
   "execution_count": null,
   "metadata": {},
   "outputs": [],
   "source": []
  },
  {
   "cell_type": "code",
   "execution_count": null,
   "metadata": {},
   "outputs": [],
   "source": []
  },
  {
   "cell_type": "code",
   "execution_count": null,
   "metadata": {},
   "outputs": [],
   "source": []
  },
  {
   "cell_type": "code",
   "execution_count": null,
   "metadata": {},
   "outputs": [],
   "source": []
  },
  {
   "cell_type": "code",
   "execution_count": null,
   "metadata": {},
   "outputs": [],
   "source": []
  },
  {
   "cell_type": "code",
   "execution_count": null,
   "metadata": {},
   "outputs": [],
   "source": []
  }
 ],
 "metadata": {
  "kernelspec": {
   "display_name": "Python [conda env:py36] *",
   "language": "python",
   "name": "conda-env-py36-py"
  },
  "language_info": {
   "codemirror_mode": {
    "name": "ipython",
    "version": 3
   },
   "file_extension": ".py",
   "mimetype": "text/x-python",
   "name": "python",
   "nbconvert_exporter": "python",
   "pygments_lexer": "ipython3",
   "version": "3.6.8"
  }
 },
 "nbformat": 4,
 "nbformat_minor": 2
}
