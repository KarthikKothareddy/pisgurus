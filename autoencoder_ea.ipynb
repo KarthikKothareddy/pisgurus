{
 "cells": [
  {
   "cell_type": "code",
   "execution_count": 26,
   "metadata": {
    "ExecuteTime": {
     "end_time": "2020-02-12T21:33:26.601602Z",
     "start_time": "2020-02-12T21:33:26.594877Z"
    }
   },
   "outputs": [],
   "source": [
    "import tensorflow as tf\n",
    "import tensorflow.keras as k\n",
    "from tensorflow.keras.layers import Input, Dense\n",
    "from tensorflow.keras.models import Model"
   ]
  },
  {
   "cell_type": "code",
   "execution_count": 27,
   "metadata": {
    "ExecuteTime": {
     "end_time": "2020-02-12T21:33:32.365286Z",
     "start_time": "2020-02-12T21:33:32.355245Z"
    }
   },
   "outputs": [],
   "source": [
    "encoding_dim = 32\n",
    "image_input = Input(shape=(784, ))"
   ]
  },
  {
   "cell_type": "code",
   "execution_count": 28,
   "metadata": {
    "ExecuteTime": {
     "end_time": "2020-02-13T13:46:25.789416Z",
     "start_time": "2020-02-13T13:46:25.646923Z"
    }
   },
   "outputs": [],
   "source": [
    "# encoded\n",
    "encoded = Dense(encoding_dim, activation=\"relu\")(image_input)\n",
    "\n",
    "# decoded \n",
    "decoded = Dense(784, activation=\"sigmoid\")(encoded)\n",
    "\n",
    "# autoencoder\n",
    "autoencoder = Model(image_input, decoded)"
   ]
  },
  {
   "cell_type": "code",
   "execution_count": 29,
   "metadata": {
    "ExecuteTime": {
     "end_time": "2020-02-13T13:47:57.056406Z",
     "start_time": "2020-02-13T13:47:57.044717Z"
    }
   },
   "outputs": [],
   "source": [
    "# ENCODER \n",
    "encoder = Model(image_input, encoded)\n",
    "\n",
    "# placeholder for an encoded 32-dimensional input\n",
    "encoded_input = Input(shape=(encoding_dim, ))\n",
    "\n",
    "# retrieve last later from encoder\n",
    "decoder_layer = autoencoder.layers[-1]\n",
    "\n",
    "# DECODER\n",
    "decoder = Model(encoded_input, decoder_layer(encoded_input))"
   ]
  },
  {
   "cell_type": "code",
   "execution_count": 30,
   "metadata": {
    "ExecuteTime": {
     "end_time": "2020-02-13T13:49:01.149638Z",
     "start_time": "2020-02-13T13:49:01.118837Z"
    }
   },
   "outputs": [],
   "source": [
    "autoencoder.compile(optimizer=\"adadelta\", loss=\"binary_crossentropy\")"
   ]
  },
  {
   "cell_type": "code",
   "execution_count": 31,
   "metadata": {
    "ExecuteTime": {
     "end_time": "2020-02-13T13:49:55.977239Z",
     "start_time": "2020-02-13T13:49:55.695947Z"
    }
   },
   "outputs": [],
   "source": [
    "from tensorflow.keras.datasets import mnist\n",
    "import numpy as np\n",
    "\n",
    "(x_train, _), (x_test, _) = mnist.load_data()"
   ]
  },
  {
   "cell_type": "code",
   "execution_count": 34,
   "metadata": {
    "ExecuteTime": {
     "end_time": "2020-02-13T13:53:00.381415Z",
     "start_time": "2020-02-13T13:53:00.233939Z"
    }
   },
   "outputs": [
    {
     "name": "stdout",
     "output_type": "stream",
     "text": [
      "(60000, 784) (10000, 784)\n"
     ]
    }
   ],
   "source": [
    "x_train = x_train.astype(\"float32\")/255.\n",
    "x_test = x_test.astype(\"float32\")/255.\n",
    "x_train = x_train.reshape((len(x_train), np.prod(x_train.shape[1:])))\n",
    "x_test = x_test.reshape((len(x_test), np.prod(x_test.shape[1:])))\n",
    "print(x_train.shape, x_test.shape)"
   ]
  },
  {
   "cell_type": "code",
   "execution_count": 35,
   "metadata": {
    "ExecuteTime": {
     "end_time": "2020-02-13T13:55:02.356698Z",
     "start_time": "2020-02-13T13:54:14.459518Z"
    }
   },
   "outputs": [
    {
     "name": "stdout",
     "output_type": "stream",
     "text": [
      "Train on 60000 samples, validate on 10000 samples\n",
      "Epoch 1/50\n",
      "60000/60000 [==============================] - 1s 23us/sample - loss: 0.6931 - val_loss: 0.6931\n",
      "Epoch 2/50\n",
      "60000/60000 [==============================] - 1s 16us/sample - loss: 0.6930 - val_loss: 0.6930\n",
      "Epoch 3/50\n",
      "60000/60000 [==============================] - 1s 16us/sample - loss: 0.6930 - val_loss: 0.6929\n",
      "Epoch 4/50\n",
      "60000/60000 [==============================] - 1s 16us/sample - loss: 0.6929 - val_loss: 0.6928\n",
      "Epoch 5/50\n",
      "60000/60000 [==============================] - 1s 16us/sample - loss: 0.6928 - val_loss: 0.6928\n",
      "Epoch 6/50\n",
      "60000/60000 [==============================] - 1s 15us/sample - loss: 0.6927 - val_loss: 0.6927\n",
      "Epoch 7/50\n",
      "60000/60000 [==============================] - 1s 16us/sample - loss: 0.6926 - val_loss: 0.6926\n",
      "Epoch 8/50\n",
      "60000/60000 [==============================] - 1s 16us/sample - loss: 0.6926 - val_loss: 0.6925\n",
      "Epoch 9/50\n",
      "60000/60000 [==============================] - 1s 16us/sample - loss: 0.6925 - val_loss: 0.6924\n",
      "Epoch 10/50\n",
      "60000/60000 [==============================] - 1s 16us/sample - loss: 0.6924 - val_loss: 0.6924\n",
      "Epoch 11/50\n",
      "60000/60000 [==============================] - 1s 16us/sample - loss: 0.6923 - val_loss: 0.6923\n",
      "Epoch 12/50\n",
      "60000/60000 [==============================] - 1s 16us/sample - loss: 0.6922 - val_loss: 0.6922\n",
      "Epoch 13/50\n",
      "60000/60000 [==============================] - 1s 15us/sample - loss: 0.6922 - val_loss: 0.6921\n",
      "Epoch 14/50\n",
      "60000/60000 [==============================] - 1s 16us/sample - loss: 0.6921 - val_loss: 0.6921\n",
      "Epoch 15/50\n",
      "60000/60000 [==============================] - 1s 16us/sample - loss: 0.6920 - val_loss: 0.6920\n",
      "Epoch 16/50\n",
      "60000/60000 [==============================] - 1s 16us/sample - loss: 0.6919 - val_loss: 0.6919\n",
      "Epoch 17/50\n",
      "60000/60000 [==============================] - 1s 16us/sample - loss: 0.6919 - val_loss: 0.6918\n",
      "Epoch 18/50\n",
      "60000/60000 [==============================] - 1s 16us/sample - loss: 0.6918 - val_loss: 0.6917\n",
      "Epoch 19/50\n",
      "60000/60000 [==============================] - 1s 16us/sample - loss: 0.6917 - val_loss: 0.6917\n",
      "Epoch 20/50\n",
      "60000/60000 [==============================] - 1s 16us/sample - loss: 0.6916 - val_loss: 0.6916\n",
      "Epoch 21/50\n",
      "60000/60000 [==============================] - 1s 16us/sample - loss: 0.6915 - val_loss: 0.6915\n",
      "Epoch 22/50\n",
      "60000/60000 [==============================] - 1s 16us/sample - loss: 0.6915 - val_loss: 0.6914\n",
      "Epoch 23/50\n",
      "60000/60000 [==============================] - 1s 16us/sample - loss: 0.6914 - val_loss: 0.6913\n",
      "Epoch 24/50\n",
      "60000/60000 [==============================] - 1s 16us/sample - loss: 0.6913 - val_loss: 0.6913\n",
      "Epoch 25/50\n",
      "60000/60000 [==============================] - 1s 16us/sample - loss: 0.6912 - val_loss: 0.6912\n",
      "Epoch 26/50\n",
      "60000/60000 [==============================] - 1s 16us/sample - loss: 0.6911 - val_loss: 0.6911\n",
      "Epoch 27/50\n",
      "60000/60000 [==============================] - 1s 16us/sample - loss: 0.6911 - val_loss: 0.6910\n",
      "Epoch 28/50\n",
      "60000/60000 [==============================] - 1s 16us/sample - loss: 0.6910 - val_loss: 0.6909\n",
      "Epoch 29/50\n",
      "60000/60000 [==============================] - 1s 16us/sample - loss: 0.6909 - val_loss: 0.6909\n",
      "Epoch 30/50\n",
      "60000/60000 [==============================] - 1s 16us/sample - loss: 0.6908 - val_loss: 0.6908\n",
      "Epoch 31/50\n",
      "60000/60000 [==============================] - 1s 16us/sample - loss: 0.6907 - val_loss: 0.6907\n",
      "Epoch 32/50\n",
      "60000/60000 [==============================] - 1s 16us/sample - loss: 0.6907 - val_loss: 0.6906\n",
      "Epoch 33/50\n",
      "60000/60000 [==============================] - 1s 16us/sample - loss: 0.6906 - val_loss: 0.6905\n",
      "Epoch 34/50\n",
      "60000/60000 [==============================] - 1s 16us/sample - loss: 0.6905 - val_loss: 0.6905\n",
      "Epoch 35/50\n",
      "60000/60000 [==============================] - 1s 16us/sample - loss: 0.6904 - val_loss: 0.6904\n",
      "Epoch 36/50\n",
      "60000/60000 [==============================] - 1s 16us/sample - loss: 0.6903 - val_loss: 0.6903\n",
      "Epoch 37/50\n",
      "60000/60000 [==============================] - 1s 16us/sample - loss: 0.6903 - val_loss: 0.6902\n",
      "Epoch 38/50\n",
      "60000/60000 [==============================] - 1s 16us/sample - loss: 0.6902 - val_loss: 0.6902\n",
      "Epoch 39/50\n",
      "60000/60000 [==============================] - 1s 16us/sample - loss: 0.6901 - val_loss: 0.6901\n",
      "Epoch 40/50\n",
      "60000/60000 [==============================] - 1s 16us/sample - loss: 0.6900 - val_loss: 0.6900\n",
      "Epoch 41/50\n",
      "60000/60000 [==============================] - 1s 16us/sample - loss: 0.6900 - val_loss: 0.6899\n",
      "Epoch 42/50\n",
      "60000/60000 [==============================] - 1s 16us/sample - loss: 0.6899 - val_loss: 0.6898\n",
      "Epoch 43/50\n",
      "60000/60000 [==============================] - 1s 16us/sample - loss: 0.6898 - val_loss: 0.6898\n",
      "Epoch 44/50\n",
      "60000/60000 [==============================] - 1s 16us/sample - loss: 0.6897 - val_loss: 0.6897\n",
      "Epoch 45/50\n",
      "60000/60000 [==============================] - 1s 16us/sample - loss: 0.6896 - val_loss: 0.6896\n",
      "Epoch 46/50\n",
      "60000/60000 [==============================] - 1s 16us/sample - loss: 0.6896 - val_loss: 0.6895\n",
      "Epoch 47/50\n",
      "60000/60000 [==============================] - 1s 16us/sample - loss: 0.6895 - val_loss: 0.6894\n",
      "Epoch 48/50\n",
      "60000/60000 [==============================] - 1s 16us/sample - loss: 0.6894 - val_loss: 0.6894\n",
      "Epoch 49/50\n",
      "60000/60000 [==============================] - 1s 16us/sample - loss: 0.6893 - val_loss: 0.6893\n",
      "Epoch 50/50\n",
      "60000/60000 [==============================] - 1s 16us/sample - loss: 0.6892 - val_loss: 0.6892\n"
     ]
    },
    {
     "data": {
      "text/plain": [
       "<tensorflow.python.keras.callbacks.History at 0x1a41646630>"
      ]
     },
     "execution_count": 35,
     "metadata": {},
     "output_type": "execute_result"
    }
   ],
   "source": [
    "autoencoder.fit(\n",
    "    x_train, x_train,\n",
    "    epochs=50,\n",
    "    batch_size=256,\n",
    "    shuffle=True,\n",
    "    validation_data=(x_test, x_test)\n",
    ")"
   ]
  },
  {
   "cell_type": "code",
   "execution_count": 36,
   "metadata": {
    "ExecuteTime": {
     "end_time": "2020-02-13T13:56:05.921975Z",
     "start_time": "2020-02-13T13:56:05.581198Z"
    }
   },
   "outputs": [],
   "source": [
    "# encode and decode some digits\n",
    "# note that we take them from the *test* set\n",
    "encoded_imgs = encoder.predict(x_test)\n",
    "decoded_imgs = decoder.predict(encoded_imgs)"
   ]
  },
  {
   "cell_type": "code",
   "execution_count": 38,
   "metadata": {
    "ExecuteTime": {
     "end_time": "2020-02-13T13:56:45.438265Z",
     "start_time": "2020-02-13T13:56:44.909864Z"
    }
   },
   "outputs": [
    {
     "data": {
      "image/png": "[encoded data removed]",
      "text/plain": [
       "<Figure size 1440x288 with 20 Axes>"
      ]
     },
     "metadata": {
      "needs_background": "light"
     },
     "output_type": "display_data"
    }
   ],
   "source": [
    "import matplotlib.pyplot as plt\n",
    "%matplotlib inline\n",
    "\n",
    "n = 10  # how many digits we will display\n",
    "plt.figure(figsize=(20, 4))\n",
    "for i in range(n):\n",
    "    # display original\n",
    "    ax = plt.subplot(2, n, i + 1)\n",
    "    plt.imshow(x_test[i].reshape(28, 28))\n",
    "    plt.gray()\n",
    "    ax.get_xaxis().set_visible(False)\n",
    "    ax.get_yaxis().set_visible(False)\n",
    "\n",
    "    # display reconstruction\n",
    "    ax = plt.subplot(2, n, i + 1 + n)\n",
    "    plt.imshow(decoded_imgs[i].reshape(28, 28))\n",
    "    plt.gray()\n",
    "    ax.get_xaxis().set_visible(False)\n",
    "    ax.get_yaxis().set_visible(False)\n",
    "plt.show()"
   ]
  },
  {
   "cell_type": "code",
   "execution_count": null,
   "metadata": {},
   "outputs": [],
   "source": []
  },
  {
   "cell_type": "code",
   "execution_count": null,
   "metadata": {},
   "outputs": [],
   "source": []
  },
  {
   "cell_type": "code",
   "execution_count": null,
   "metadata": {},
   "outputs": [],
   "source": []
  },
  {
   "cell_type": "code",
   "execution_count": null,
   "metadata": {},
   "outputs": [],
   "source": []
  },
  {
   "cell_type": "code",
   "execution_count": null,
   "metadata": {},
   "outputs": [],
   "source": []
  }
 ],
 "metadata": {
  "kernelspec": {
   "display_name": "Python [conda env:py36] *",
   "language": "python",
   "name": "conda-env-py36-py"
  },
  "language_info": {
   "codemirror_mode": {
    "name": "ipython",
    "version": 3
   },
   "file_extension": ".py",
   "mimetype": "text/x-python",
   "name": "python",
   "nbconvert_exporter": "python",
   "pygments_lexer": "ipython3",
   "version": "3.6.8"
  }
 },
 "nbformat": 4,
 "nbformat_minor": 2
}
