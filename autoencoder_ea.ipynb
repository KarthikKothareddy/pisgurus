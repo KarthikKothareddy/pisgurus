{
 "cells": [
  {
   "cell_type": "code",
   "execution_count": 26,
   "metadata": {
    "ExecuteTime": {
     "end_time": "2020-02-12T21:33:26.601602Z",
     "start_time": "2020-02-12T21:33:26.594877Z"
    }
   },
   "outputs": [],
   "source": [
    "import tensorflow as tf\n",
    "import tensorflow.keras as k\n",
    "from tensorflow.keras.layers import Input, Dense\n",
    "from tensorflow.keras.models import Model"
   ]
  },
  {
   "cell_type": "code",
   "execution_count": 27,
   "metadata": {
    "ExecuteTime": {
     "end_time": "2020-02-12T21:33:32.365286Z",
     "start_time": "2020-02-12T21:33:32.355245Z"
    }
   },
   "outputs": [],
   "source": [
    "encoding_dim = 32\n",
    "image_input = Input(shape=(784, ))"
   ]
  },
  {
   "cell_type": "code",
   "execution_count": 28,
   "metadata": {
    "ExecuteTime": {
     "end_time": "2020-02-13T13:46:25.789416Z",
     "start_time": "2020-02-13T13:46:25.646923Z"
    }
   },
   "outputs": [],
   "source": [
    "# encoded\n",
    "encoded = Dense(encoding_dim, activation=\"relu\")(image_input)\n",
    "\n",
    "# decoded \n",
    "decoded = Dense(784, activation=\"sigmoid\")(encoded)\n",
    "\n",
    "# autoencoder\n",
    "autoencoder = Model(image_input, decoded)"
   ]
  },
  {
   "cell_type": "code",
   "execution_count": 29,
   "metadata": {
    "ExecuteTime": {
     "end_time": "2020-02-13T13:47:57.056406Z",
     "start_time": "2020-02-13T13:47:57.044717Z"
    }
   },
   "outputs": [],
   "source": [
    "# ENCODER \n",
    "encoder = Model(image_input, encoded)\n",
    "\n",
    "# placeholder for an encoded 32-dimensional input\n",
    "encoded_input = Input(shape=(encoding_dim, ))\n",
    "\n",
    "# retrieve last later from encoder\n",
    "decoder_layer = autoencoder.layers[-1]\n",
    "\n",
    "# DECODER\n",
    "decoder = Model(encoded_input, decoder_layer(encoded_input))"
   ]
  },
  {
   "cell_type": "code",
   "execution_count": 30,
   "metadata": {
    "ExecuteTime": {
     "end_time": "2020-02-13T13:49:01.149638Z",
     "start_time": "2020-02-13T13:49:01.118837Z"
    }
   },
   "outputs": [],
   "source": [
    "autoencoder.compile(optimizer=\"adadelta\", loss=\"binary_crossentropy\")"
   ]
  },
  {
   "cell_type": "code",
   "execution_count": 31,
   "metadata": {
    "ExecuteTime": {
     "end_time": "2020-02-13T13:49:55.977239Z",
     "start_time": "2020-02-13T13:49:55.695947Z"
    }
   },
   "outputs": [],
   "source": [
    "from tensorflow.keras.datasets import mnist\n",
    "import numpy as np\n",
    "\n",
    "(x_train, _), (x_test, _) = mnist.load_data()"
   ]
  },
  {
   "cell_type": "code",
   "execution_count": 34,
   "metadata": {
    "ExecuteTime": {
     "end_time": "2020-02-13T13:53:00.381415Z",
     "start_time": "2020-02-13T13:53:00.233939Z"
    }
   },
   "outputs": [
    {
     "name": "stdout",
     "output_type": "stream",
     "text": [
      "(60000, 784) (10000, 784)\n"
     ]
    }
   ],
   "source": [
    "x_train = x_train.astype(\"float32\")/255.\n",
    "x_test = x_test.astype(\"float32\")/255.\n",
    "x_train = x_train.reshape((len(x_train), np.prod(x_train.shape[1:])))\n",
    "x_test = x_test.reshape((len(x_test), np.prod(x_test.shape[1:])))\n",
    "print(x_train.shape, x_test.shape)"
   ]
  },
  {
   "cell_type": "code",
   "execution_count": 35,
   "metadata": {
    "ExecuteTime": {
     "end_time": "2020-02-13T13:55:02.356698Z",
     "start_time": "2020-02-13T13:54:14.459518Z"
    }
   },
   "outputs": [
    {
     "name": "stdout",
     "output_type": "stream",
     "text": [
      "Train on 60000 samples, validate on 10000 samples\n",
      "Epoch 1/50\n",
      "60000/60000 [==============================] - 1s 23us/sample - loss: 0.6931 - val_loss: 0.6931\n",
      "Epoch 2/50\n",
      "60000/60000 [==============================] - 1s 16us/sample - loss: 0.6930 - val_loss: 0.6930\n",
      "Epoch 3/50\n",
      "60000/60000 [==============================] - 1s 16us/sample - loss: 0.6930 - val_loss: 0.6929\n",
      "Epoch 4/50\n",
      "60000/60000 [==============================] - 1s 16us/sample - loss: 0.6929 - val_loss: 0.6928\n",
      "Epoch 5/50\n",
      "60000/60000 [==============================] - 1s 16us/sample - loss: 0.6928 - val_loss: 0.6928\n",
      "Epoch 6/50\n",
      "60000/60000 [==============================] - 1s 15us/sample - loss: 0.6927 - val_loss: 0.6927\n",
      "Epoch 7/50\n",
      "60000/60000 [==============================] - 1s 16us/sample - loss: 0.6926 - val_loss: 0.6926\n",
      "Epoch 8/50\n",
      "60000/60000 [==============================] - 1s 16us/sample - loss: 0.6926 - val_loss: 0.6925\n",
      "Epoch 9/50\n",
      "60000/60000 [==============================] - 1s 16us/sample - loss: 0.6925 - val_loss: 0.6924\n",
      "Epoch 10/50\n",
      "60000/60000 [==============================] - 1s 16us/sample - loss: 0.6924 - val_loss: 0.6924\n",
      "Epoch 11/50\n",
      "60000/60000 [==============================] - 1s 16us/sample - loss: 0.6923 - val_loss: 0.6923\n",
      "Epoch 12/50\n",
      "60000/60000 [==============================] - 1s 16us/sample - loss: 0.6922 - val_loss: 0.6922\n",
      "Epoch 13/50\n",
      "60000/60000 [==============================] - 1s 15us/sample - loss: 0.6922 - val_loss: 0.6921\n",
      "Epoch 14/50\n",
      "60000/60000 [==============================] - 1s 16us/sample - loss: 0.6921 - val_loss: 0.6921\n",
      "Epoch 15/50\n",
      "60000/60000 [==============================] - 1s 16us/sample - loss: 0.6920 - val_loss: 0.6920\n",
      "Epoch 16/50\n",
      "60000/60000 [==============================] - 1s 16us/sample - loss: 0.6919 - val_loss: 0.6919\n",
      "Epoch 17/50\n",
      "60000/60000 [==============================] - 1s 16us/sample - loss: 0.6919 - val_loss: 0.6918\n",
      "Epoch 18/50\n",
      "60000/60000 [==============================] - 1s 16us/sample - loss: 0.6918 - val_loss: 0.6917\n",
      "Epoch 19/50\n",
      "60000/60000 [==============================] - 1s 16us/sample - loss: 0.6917 - val_loss: 0.6917\n",
      "Epoch 20/50\n",
      "60000/60000 [==============================] - 1s 16us/sample - loss: 0.6916 - val_loss: 0.6916\n",
      "Epoch 21/50\n",
      "60000/60000 [==============================] - 1s 16us/sample - loss: 0.6915 - val_loss: 0.6915\n",
      "Epoch 22/50\n",
      "60000/60000 [==============================] - 1s 16us/sample - loss: 0.6915 - val_loss: 0.6914\n",
      "Epoch 23/50\n",
      "60000/60000 [==============================] - 1s 16us/sample - loss: 0.6914 - val_loss: 0.6913\n",
      "Epoch 24/50\n",
      "60000/60000 [==============================] - 1s 16us/sample - loss: 0.6913 - val_loss: 0.6913\n",
      "Epoch 25/50\n",
      "60000/60000 [==============================] - 1s 16us/sample - loss: 0.6912 - val_loss: 0.6912\n",
      "Epoch 26/50\n",
      "60000/60000 [==============================] - 1s 16us/sample - loss: 0.6911 - val_loss: 0.6911\n",
      "Epoch 27/50\n",
      "60000/60000 [==============================] - 1s 16us/sample - loss: 0.6911 - val_loss: 0.6910\n",
      "Epoch 28/50\n",
      "60000/60000 [==============================] - 1s 16us/sample - loss: 0.6910 - val_loss: 0.6909\n",
      "Epoch 29/50\n",
      "60000/60000 [==============================] - 1s 16us/sample - loss: 0.6909 - val_loss: 0.6909\n",
      "Epoch 30/50\n",
      "60000/60000 [==============================] - 1s 16us/sample - loss: 0.6908 - val_loss: 0.6908\n",
      "Epoch 31/50\n",
      "60000/60000 [==============================] - 1s 16us/sample - loss: 0.6907 - val_loss: 0.6907\n",
      "Epoch 32/50\n",
      "60000/60000 [==============================] - 1s 16us/sample - loss: 0.6907 - val_loss: 0.6906\n",
      "Epoch 33/50\n",
      "60000/60000 [==============================] - 1s 16us/sample - loss: 0.6906 - val_loss: 0.6905\n",
      "Epoch 34/50\n",
      "60000/60000 [==============================] - 1s 16us/sample - loss: 0.6905 - val_loss: 0.6905\n",
      "Epoch 35/50\n",
      "60000/60000 [==============================] - 1s 16us/sample - loss: 0.6904 - val_loss: 0.6904\n",
      "Epoch 36/50\n",
      "60000/60000 [==============================] - 1s 16us/sample - loss: 0.6903 - val_loss: 0.6903\n",
      "Epoch 37/50\n",
      "60000/60000 [==============================] - 1s 16us/sample - loss: 0.6903 - val_loss: 0.6902\n",
      "Epoch 38/50\n",
      "60000/60000 [==============================] - 1s 16us/sample - loss: 0.6902 - val_loss: 0.6902\n",
      "Epoch 39/50\n",
      "60000/60000 [==============================] - 1s 16us/sample - loss: 0.6901 - val_loss: 0.6901\n",
      "Epoch 40/50\n",
      "60000/60000 [==============================] - 1s 16us/sample - loss: 0.6900 - val_loss: 0.6900\n",
      "Epoch 41/50\n",
      "60000/60000 [==============================] - 1s 16us/sample - loss: 0.6900 - val_loss: 0.6899\n",
      "Epoch 42/50\n",
      "60000/60000 [==============================] - 1s 16us/sample - loss: 0.6899 - val_loss: 0.6898\n",
      "Epoch 43/50\n",
      "60000/60000 [==============================] - 1s 16us/sample - loss: 0.6898 - val_loss: 0.6898\n",
      "Epoch 44/50\n",
      "60000/60000 [==============================] - 1s 16us/sample - loss: 0.6897 - val_loss: 0.6897\n",
      "Epoch 45/50\n",
      "60000/60000 [==============================] - 1s 16us/sample - loss: 0.6896 - val_loss: 0.6896\n",
      "Epoch 46/50\n",
      "60000/60000 [==============================] - 1s 16us/sample - loss: 0.6896 - val_loss: 0.6895\n",
      "Epoch 47/50\n",
      "60000/60000 [==============================] - 1s 16us/sample - loss: 0.6895 - val_loss: 0.6894\n",
      "Epoch 48/50\n",
      "60000/60000 [==============================] - 1s 16us/sample - loss: 0.6894 - val_loss: 0.6894\n",
      "Epoch 49/50\n",
      "60000/60000 [==============================] - 1s 16us/sample - loss: 0.6893 - val_loss: 0.6893\n",
      "Epoch 50/50\n",
      "60000/60000 [==============================] - 1s 16us/sample - loss: 0.6892 - val_loss: 0.6892\n"
     ]
    },
    {
     "data": {
      "text/plain": [
       "<tensorflow.python.keras.callbacks.History at 0x1a41646630>"
      ]
     },
     "execution_count": 35,
     "metadata": {},
     "output_type": "execute_result"
    }
   ],
   "source": [
    "autoencoder.fit(\n",
    "    x_train, x_train,\n",
    "    epochs=50,\n",
    "    batch_size=256,\n",
    "    shuffle=True,\n",
    "    validation_data=(x_test, x_test)\n",
    ")"
   ]
  },
  {
   "cell_type": "code",
   "execution_count": 36,
   "metadata": {
    "ExecuteTime": {
     "end_time": "2020-02-13T13:56:05.921975Z",
     "start_time": "2020-02-13T13:56:05.581198Z"
    }
   },
   "outputs": [],
   "source": [
    "# encode and decode some digits\n",
    "# note that we take them from the *test* set\n",
    "encoded_imgs = encoder.predict(x_test)\n",
    "decoded_imgs = decoder.predict(encoded_imgs)"
   ]
  },
  {
   "cell_type": "code",
   "execution_count": 40,
   "metadata": {
    "ExecuteTime": {
     "end_time": "2020-02-13T13:58:33.412681Z",
     "start_time": "2020-02-13T13:58:33.407072Z"
    }
   },
   "outputs": [
    {
     "data": {
      "text/plain": [
       "'\\nn = 10  # how many digits we will display\\nplt.figure(figsize=(20, 4))\\nfor i in range(n):\\n    # display original\\n    ax = plt.subplot(2, n, i + 1)\\n    plt.imshow(x_test[i].reshape(28, 28))\\n    plt.gray()\\n    ax.get_xaxis().set_visible(False)\\n    ax.get_yaxis().set_visible(False)\\n\\n    # display reconstruction\\n    ax = plt.subplot(2, n, i + 1 + n)\\n    plt.imshow(decoded_imgs[i].reshape(28, 28))\\n    plt.gray()\\n    ax.get_xaxis().set_visible(False)\\n    ax.get_yaxis().set_visible(False)\\nplt.show()\\n'"
      ]
     },
     "execution_count": 40,
     "metadata": {},
     "output_type": "execute_result"
    }
   ],
   "source": [
    "import matplotlib.pyplot as plt\n",
    "%matplotlib inline\n",
    "\"\"\"\n",
    "n = 10  # how many digits we will display\n",
    "plt.figure(figsize=(20, 4))\n",
    "for i in range(n):\n",
    "    # display original\n",
    "    ax = plt.subplot(2, n, i + 1)\n",
    "    plt.imshow(x_test[i].reshape(28, 28))\n",
    "    plt.gray()\n",
    "    ax.get_xaxis().set_visible(False)\n",
    "    ax.get_yaxis().set_visible(False)\n",
    "\n",
    "    # display reconstruction\n",
    "    ax = plt.subplot(2, n, i + 1 + n)\n",
    "    plt.imshow(decoded_imgs[i].reshape(28, 28))\n",
    "    plt.gray()\n",
    "    ax.get_xaxis().set_visible(False)\n",
    "    ax.get_yaxis().set_visible(False)\n",
    "plt.show()\n",
    "\"\"\""
   ]
  },
  {
   "cell_type": "code",
   "execution_count": 42,
   "metadata": {
    "ExecuteTime": {
     "end_time": "2020-02-13T14:03:38.571560Z",
     "start_time": "2020-02-13T14:03:38.568706Z"
    }
   },
   "outputs": [],
   "source": [
    "from tensorflow.keras.layers import (\n",
    "    Input,\n",
    "    Dense,\n",
    "    Conv2D,\n",
    "    MaxPooling2D,\n",
    "    UpSampling2D\n",
    ")\n",
    "from tensorflow.keras.models import Model"
   ]
  },
  {
   "cell_type": "code",
   "execution_count": 44,
   "metadata": {
    "ExecuteTime": {
     "end_time": "2020-02-13T14:14:19.769501Z",
     "start_time": "2020-02-13T14:14:19.668678Z"
    }
   },
   "outputs": [],
   "source": [
    "# CONV ENCODER\n",
    "image_input = Input(shape=(28, 28, 1))\n",
    "# 28x28x1\n",
    "x = Conv2D(16, (3, 3), activation=\"relu\", padding=\"same\")(image_input)\n",
    "x = MaxPooling2D((2, 2), padding=\"same\")(x)\n",
    "# 14x14x16\n",
    "x = Conv2D(8, (3, 3), activation=\"relu\", padding=\"same\")(x)\n",
    "x = MaxPooling2D((2, 2), padding=\"same\")(x)\n",
    "# 7x7x8\n",
    "x = Conv2D(8, (3, 3), activation=\"relu\", padding=\"same\")(x)\n",
    "encoded = MaxPooling2D((2, 2), padding=\"same\")(x)\n",
    "\n",
    "# 4x4x8 ~ 128 dimensions\n",
    "# CONV DECODER\n",
    "x = Conv2D(8, (3, 3), activation=\"relu\", padding=\"same\")(encoded)\n",
    "x = UpSampling2D((2, 2))(x)\n",
    "x = Conv2D(8, (3, 3), activation=\"relu\", padding=\"same\")(x)\n",
    "x = UpSampling2D((2, 2))(x)\n",
    "x = Conv2D(16, (3, 3), activation=\"relu\")(x)\n",
    "x = UpSampling2D((2, 2))(x)\n",
    "decoded = Conv2D(1, (3, 3), activation=\"sigmoid\", padding=\"same\")(x)\n",
    "\n",
    "autoencoder = Model(image_input, decoded)\n",
    "autoencoder.compile(optimizer=\"adadelta\", loss=\"binary_crossentropy\")"
   ]
  },
  {
   "cell_type": "code",
   "execution_count": 46,
   "metadata": {
    "ExecuteTime": {
     "end_time": "2020-02-13T14:15:53.619367Z",
     "start_time": "2020-02-13T14:15:53.221510Z"
    }
   },
   "outputs": [],
   "source": [
    "from keras.datasets import mnist\n",
    "import numpy as np\n",
    "\n",
    "(x_train, _), (x_test, _) = mnist.load_data()\n",
    "\n",
    "x_train = x_train.astype('float32') / 255.\n",
    "x_test = x_test.astype('float32') / 255.\n",
    "x_train = np.reshape(x_train, (len(x_train), 28, 28, 1))\n",
    "x_test = np.reshape(x_test, (len(x_test), 28, 28, 1)) "
   ]
  },
  {
   "cell_type": "code",
   "execution_count": 51,
   "metadata": {
    "ExecuteTime": {
     "end_time": "2020-02-13T15:11:54.431292Z",
     "start_time": "2020-02-13T14:41:29.766982Z"
    }
   },
   "outputs": [
    {
     "name": "stdout",
     "output_type": "stream",
     "text": [
      "Train on 60000 samples, validate on 10000 samples\n",
      "Epoch 1/50\n",
      "60000/60000 [==============================] - 36s 595us/sample - loss: 0.2488 - val_loss: 0.2479\n",
      "Epoch 2/50\n",
      "60000/60000 [==============================] - 36s 599us/sample - loss: 0.2467 - val_loss: 0.2459\n",
      "Epoch 3/50\n",
      "60000/60000 [==============================] - 36s 598us/sample - loss: 0.2448 - val_loss: 0.2440\n",
      "Epoch 4/50\n",
      "60000/60000 [==============================] - 36s 604us/sample - loss: 0.2430 - val_loss: 0.2423\n",
      "Epoch 5/50\n",
      "60000/60000 [==============================] - 35s 591us/sample - loss: 0.2413 - val_loss: 0.2406\n",
      "Epoch 6/50\n",
      "60000/60000 [==============================] - 36s 599us/sample - loss: 0.2397 - val_loss: 0.2390\n",
      "Epoch 7/50\n",
      "60000/60000 [==============================] - 36s 595us/sample - loss: 0.2382 - val_loss: 0.2375\n",
      "Epoch 8/50\n",
      "60000/60000 [==============================] - 36s 599us/sample - loss: 0.2367 - val_loss: 0.2361\n",
      "Epoch 9/50\n",
      "60000/60000 [==============================] - 36s 597us/sample - loss: 0.2353 - val_loss: 0.2348\n",
      "Epoch 10/50\n",
      "60000/60000 [==============================] - 36s 595us/sample - loss: 0.2340 - val_loss: 0.2334\n",
      "Epoch 11/50\n",
      "60000/60000 [==============================] - 36s 602us/sample - loss: 0.2326 - val_loss: 0.2322\n",
      "Epoch 12/50\n",
      "60000/60000 [==============================] - 36s 593us/sample - loss: 0.2314 - val_loss: 0.2309\n",
      "Epoch 13/50\n",
      "60000/60000 [==============================] - 36s 594us/sample - loss: 0.2301 - val_loss: 0.2297\n",
      "Epoch 14/50\n",
      "60000/60000 [==============================] - 36s 605us/sample - loss: 0.2289 - val_loss: 0.2285\n",
      "Epoch 15/50\n",
      "60000/60000 [==============================] - 37s 608us/sample - loss: 0.2277 - val_loss: 0.2273\n",
      "Epoch 16/50\n",
      "60000/60000 [==============================] - 36s 608us/sample - loss: 0.2266 - val_loss: 0.2262\n",
      "Epoch 17/50\n",
      "60000/60000 [==============================] - 37s 609us/sample - loss: 0.2255 - val_loss: 0.2251\n",
      "Epoch 18/50\n",
      "60000/60000 [==============================] - 36s 605us/sample - loss: 0.2244 - val_loss: 0.2240\n",
      "Epoch 19/50\n",
      "60000/60000 [==============================] - 37s 613us/sample - loss: 0.2234 - val_loss: 0.2230\n",
      "Epoch 20/50\n",
      "60000/60000 [==============================] - 37s 615us/sample - loss: 0.2224 - val_loss: 0.2220\n",
      "Epoch 21/50\n",
      "60000/60000 [==============================] - 37s 623us/sample - loss: 0.2214 - val_loss: 0.2210\n",
      "Epoch 22/50\n",
      "60000/60000 [==============================] - 36s 606us/sample - loss: 0.2205 - val_loss: 0.2201\n",
      "Epoch 23/50\n",
      "60000/60000 [==============================] - 38s 627us/sample - loss: 0.2196 - val_loss: 0.2193\n",
      "Epoch 24/50\n",
      "60000/60000 [==============================] - 37s 622us/sample - loss: 0.2188 - val_loss: 0.2184\n",
      "Epoch 25/50\n",
      "60000/60000 [==============================] - 37s 620us/sample - loss: 0.2180 - val_loss: 0.2176\n",
      "Epoch 26/50\n",
      "60000/60000 [==============================] - 37s 623us/sample - loss: 0.2172 - val_loss: 0.2168\n",
      "Epoch 27/50\n",
      "60000/60000 [==============================] - 37s 623us/sample - loss: 0.2165 - val_loss: 0.2161\n",
      "Epoch 28/50\n",
      "60000/60000 [==============================] - 37s 621us/sample - loss: 0.2157 - val_loss: 0.2153\n",
      "Epoch 29/50\n",
      "60000/60000 [==============================] - 37s 625us/sample - loss: 0.2150 - val_loss: 0.2146\n",
      "Epoch 30/50\n",
      "60000/60000 [==============================] - 39s 650us/sample - loss: 0.2143 - val_loss: 0.2139\n",
      "Epoch 31/50\n",
      "60000/60000 [==============================] - 39s 652us/sample - loss: 0.2136 - val_loss: 0.2132\n",
      "Epoch 32/50\n",
      "60000/60000 [==============================] - 38s 635us/sample - loss: 0.2130 - val_loss: 0.2125\n",
      "Epoch 33/50\n",
      "60000/60000 [==============================] - 39s 648us/sample - loss: 0.2123 - val_loss: 0.2119\n",
      "Epoch 34/50\n",
      "60000/60000 [==============================] - 37s 620us/sample - loss: 0.2117 - val_loss: 0.2112\n",
      "Epoch 35/50\n",
      "60000/60000 [==============================] - 37s 610us/sample - loss: 0.2111 - val_loss: 0.2106\n",
      "Epoch 36/50\n",
      "60000/60000 [==============================] - 37s 619us/sample - loss: 0.2105 - val_loss: 0.2101\n",
      "Epoch 37/50\n",
      "60000/60000 [==============================] - 36s 603us/sample - loss: 0.2099 - val_loss: 0.2095\n",
      "Epoch 38/50\n",
      "60000/60000 [==============================] - 37s 609us/sample - loss: 0.2094 - val_loss: 0.2089\n",
      "Epoch 39/50\n",
      "60000/60000 [==============================] - 36s 601us/sample - loss: 0.2089 - val_loss: 0.2084\n",
      "Epoch 40/50\n",
      "60000/60000 [==============================] - 37s 617us/sample - loss: 0.2083 - val_loss: 0.2079\n",
      "Epoch 41/50\n",
      "60000/60000 [==============================] - 36s 603us/sample - loss: 0.2078 - val_loss: 0.2074\n",
      "Epoch 42/50\n",
      "60000/60000 [==============================] - 36s 599us/sample - loss: 0.2073 - val_loss: 0.2069\n",
      "Epoch 43/50\n",
      "60000/60000 [==============================] - 35s 591us/sample - loss: 0.2069 - val_loss: 0.2064\n",
      "Epoch 44/50\n",
      "60000/60000 [==============================] - 36s 597us/sample - loss: 0.2064 - val_loss: 0.2059\n",
      "Epoch 45/50\n",
      "60000/60000 [==============================] - 36s 593us/sample - loss: 0.2059 - val_loss: 0.2054\n",
      "Epoch 46/50\n",
      "60000/60000 [==============================] - 35s 590us/sample - loss: 0.2055 - val_loss: 0.2050\n",
      "Epoch 47/50\n",
      "60000/60000 [==============================] - 35s 590us/sample - loss: 0.2051 - val_loss: 0.2046\n",
      "Epoch 48/50\n",
      "60000/60000 [==============================] - 35s 588us/sample - loss: 0.2047 - val_loss: 0.2041\n",
      "Epoch 49/50\n",
      "60000/60000 [==============================] - 35s 585us/sample - loss: 0.2042 - val_loss: 0.2037\n",
      "Epoch 50/50\n",
      "60000/60000 [==============================] - 36s 596us/sample - loss: 0.2038 - val_loss: 0.2033\n"
     ]
    },
    {
     "data": {
      "text/plain": [
       "<tensorflow.python.keras.callbacks.History at 0x1a419f17b8>"
      ]
     },
     "execution_count": 51,
     "metadata": {},
     "output_type": "execute_result"
    }
   ],
   "source": [
    "from tensorflow.keras.callbacks import TensorBoard\n",
    "autoencoder.fit(\n",
    "    x_train, x_train,\n",
    "    epochs=50,\n",
    "    batch_size=128,\n",
    "    shuffle=True,\n",
    "    validation_data=(x_test, x_test),\n",
    "    callbacks=[TensorBoard(\n",
    "        log_dir=\"tmp/autoencoder/\", \n",
    "        write_graph=True, \n",
    "        write_images=True\n",
    "    )]\n",
    ")"
   ]
  },
  {
   "cell_type": "code",
   "execution_count": null,
   "metadata": {},
   "outputs": [],
   "source": []
  },
  {
   "cell_type": "code",
   "execution_count": null,
   "metadata": {},
   "outputs": [],
   "source": []
  }
 ],
 "metadata": {
  "kernelspec": {
   "display_name": "Python [conda env:py36] *",
   "language": "python",
   "name": "conda-env-py36-py"
  },
  "language_info": {
   "codemirror_mode": {
    "name": "ipython",
    "version": 3
   },
   "file_extension": ".py",
   "mimetype": "text/x-python",
   "name": "python",
   "nbconvert_exporter": "python",
   "pygments_lexer": "ipython3",
   "version": "3.6.8"
  }
 },
 "nbformat": 4,
 "nbformat_minor": 2
}
